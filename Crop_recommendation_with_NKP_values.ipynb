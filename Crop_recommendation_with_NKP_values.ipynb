{
 "cells": [
  {
   "cell_type": "code",
   "execution_count": 90,
   "id": "10bce202",
   "metadata": {},
   "outputs": [],
   "source": [
    "# Importing libraries\n",
    "\n",
    "from __future__ import print_function\n",
    "import pandas as pd\n",
    "import numpy as np\n",
    "import matplotlib.pyplot as plt\n",
    "import seaborn as sns\n",
    "from sklearn.metrics import classification_report\n",
    "from sklearn import metrics\n",
    "from sklearn import tree\n",
    "import warnings\n",
    "warnings.filterwarnings('ignore')"
   ]
  },
  {
   "cell_type": "code",
   "execution_count": 91,
   "id": "22ff092d",
   "metadata": {},
   "outputs": [],
   "source": [
    "df = pd.read_csv('../Data-processed/final_data.csv')"
   ]
  },
  {
   "cell_type": "code",
   "execution_count": 92,
   "id": "e739e920",
   "metadata": {},
   "outputs": [
    {
     "data": {
      "text/html": [
       "<div>\n",
       "<style scoped>\n",
       "    .dataframe tbody tr th:only-of-type {\n",
       "        vertical-align: middle;\n",
       "    }\n",
       "\n",
       "    .dataframe tbody tr th {\n",
       "        vertical-align: top;\n",
       "    }\n",
       "\n",
       "    .dataframe thead th {\n",
       "        text-align: right;\n",
       "    }\n",
       "</style>\n",
       "<table border=\"1\" class=\"dataframe\">\n",
       "  <thead>\n",
       "    <tr style=\"text-align: right;\">\n",
       "      <th></th>\n",
       "      <th>N</th>\n",
       "      <th>P</th>\n",
       "      <th>K</th>\n",
       "      <th>pH</th>\n",
       "      <th>temperature</th>\n",
       "      <th>rainfall</th>\n",
       "      <th>crop</th>\n",
       "    </tr>\n",
       "  </thead>\n",
       "  <tbody>\n",
       "    <tr>\n",
       "      <th>0</th>\n",
       "      <td>66.0</td>\n",
       "      <td>46.0</td>\n",
       "      <td>42.0</td>\n",
       "      <td>6.502985</td>\n",
       "      <td>20.879744</td>\n",
       "      <td>202.935536</td>\n",
       "      <td>rice</td>\n",
       "    </tr>\n",
       "    <tr>\n",
       "      <th>1</th>\n",
       "      <td>89.0</td>\n",
       "      <td>60.0</td>\n",
       "      <td>45.0</td>\n",
       "      <td>7.038096</td>\n",
       "      <td>21.770462</td>\n",
       "      <td>226.655537</td>\n",
       "      <td>rice</td>\n",
       "    </tr>\n",
       "    <tr>\n",
       "      <th>2</th>\n",
       "      <td>87.0</td>\n",
       "      <td>44.0</td>\n",
       "      <td>44.0</td>\n",
       "      <td>7.840207</td>\n",
       "      <td>23.004459</td>\n",
       "      <td>263.964248</td>\n",
       "      <td>rice</td>\n",
       "    </tr>\n",
       "    <tr>\n",
       "      <th>3</th>\n",
       "      <td>63.0</td>\n",
       "      <td>38.0</td>\n",
       "      <td>38.0</td>\n",
       "      <td>6.980401</td>\n",
       "      <td>26.491096</td>\n",
       "      <td>242.864034</td>\n",
       "      <td>rice</td>\n",
       "    </tr>\n",
       "    <tr>\n",
       "      <th>4</th>\n",
       "      <td>78.0</td>\n",
       "      <td>48.0</td>\n",
       "      <td>35.0</td>\n",
       "      <td>7.628473</td>\n",
       "      <td>20.130175</td>\n",
       "      <td>262.717340</td>\n",
       "      <td>rice</td>\n",
       "    </tr>\n",
       "  </tbody>\n",
       "</table>\n",
       "</div>"
      ],
      "text/plain": [
       "      N     P     K        pH  temperature    rainfall  crop\n",
       "0  66.0  46.0  42.0  6.502985    20.879744  202.935536  rice\n",
       "1  89.0  60.0  45.0  7.038096    21.770462  226.655537  rice\n",
       "2  87.0  44.0  44.0  7.840207    23.004459  263.964248  rice\n",
       "3  63.0  38.0  38.0  6.980401    26.491096  242.864034  rice\n",
       "4  78.0  48.0  35.0  7.628473    20.130175  262.717340  rice"
      ]
     },
     "execution_count": 92,
     "metadata": {},
     "output_type": "execute_result"
    }
   ],
   "source": [
    "df.head()"
   ]
  },
  {
   "cell_type": "code",
   "execution_count": 93,
   "id": "5985b736",
   "metadata": {},
   "outputs": [
    {
     "name": "stdout",
     "output_type": "stream",
     "text": [
      "size: 103208\n",
      "shape: (14744, 7)\n",
      "columns: Index(['N', 'P', 'K', 'pH', 'temperature', 'rainfall', 'crop'], dtype='object')\n"
     ]
    }
   ],
   "source": [
    "print('size:', df.size)\n",
    "print('shape:', df.shape)\n",
    "print('columns:', df.columns)"
   ]
  },
  {
   "cell_type": "code",
   "execution_count": 94,
   "id": "579f7cfb",
   "metadata": {},
   "outputs": [],
   "source": [
    "features = df[['N', 'P','K',  'pH']]\n",
    "target = df['crop']\n"
   ]
  },
  {
   "cell_type": "code",
   "execution_count": 95,
   "id": "8eb07176",
   "metadata": {},
   "outputs": [],
   "source": [
    "# Initialzing empty lists to append all model's name and corresponding name\n",
    "acc = []\n",
    "model = []"
   ]
  },
  {
   "cell_type": "code",
   "execution_count": 96,
   "id": "adbe3ca1",
   "metadata": {},
   "outputs": [],
   "source": [
    "# Splitting into train and test data\n",
    "\n",
    "from sklearn.model_selection import train_test_split\n",
    "Xtrain, Xtest, Ytrain, Ytest = train_test_split(features, target, train_size=0.80, test_size = 0.2,random_state =101)"
   ]
  },
  {
   "cell_type": "markdown",
   "id": "92b0db03",
   "metadata": {},
   "source": [
    "### DT"
   ]
  },
  {
   "cell_type": "code",
   "execution_count": 97,
   "id": "26c50aff",
   "metadata": {},
   "outputs": [
    {
     "name": "stdout",
     "output_type": "stream",
     "text": [
      "DecisionTrees's Accuracy is:  90.94608341810783\n",
      "              precision    recall  f1-score   support\n",
      "\n",
      "       apple       0.48      0.74      0.58        19\n",
      "      banana       0.00      0.00      0.00        22\n",
      "   blackgram       0.00      0.00      0.00        22\n",
      "    chickpea       1.00      1.00      1.00        23\n",
      "     coconut       0.00      0.00      0.00        17\n",
      "      coffee       1.00      0.71      0.83        17\n",
      "      cotton       0.46      1.00      0.63        22\n",
      "      grapes       0.99      0.96      0.97       375\n",
      "       jowar       0.95      1.00      0.97       365\n",
      "        jute       0.00      0.00      0.00        14\n",
      " kidneybeans       0.19      1.00      0.31        19\n",
      "      lentil       0.00      0.00      0.00        23\n",
      "       maize       1.00      0.93      0.97       378\n",
      "       mango       0.00      0.00      0.00        19\n",
      "   mothbeans       0.00      0.00      0.00        14\n",
      "    mungbean       0.00      0.00      0.00        22\n",
      "   muskmelon       0.00      0.00      0.00        16\n",
      "     oilcrop       1.00      1.00      1.00       389\n",
      "      orange       0.23      1.00      0.38        18\n",
      "      papaya       0.44      1.00      0.62        20\n",
      "  pigeonpeas       0.00      0.00      0.00        28\n",
      " pomegranate       0.50      1.00      0.67        17\n",
      "      pulses       1.00      1.00      1.00       354\n",
      "        rice       0.00      0.00      0.00        19\n",
      "   sugercane       1.00      1.00      1.00       362\n",
      "  watermelon       0.45      1.00      0.62        13\n",
      "       wheat       1.00      1.00      1.00       342\n",
      "\n",
      "    accuracy                           0.91      2949\n",
      "   macro avg       0.43      0.57      0.46      2949\n",
      "weighted avg       0.89      0.91      0.89      2949\n",
      "\n"
     ]
    }
   ],
   "source": [
    "from sklearn.tree import DecisionTreeClassifier\n",
    "\n",
    "DecisionTree = DecisionTreeClassifier(criterion=\"entropy\",random_state=2,max_depth=5)\n",
    "\n",
    "DecisionTree.fit(Xtrain,Ytrain)\n",
    "\n",
    "predicted_values = DecisionTree.predict(Xtest)\n",
    "x = metrics.accuracy_score(Ytest, predicted_values)\n",
    "acc.append(x)\n",
    "model.append('Decision Tree')\n",
    "print(\"DecisionTrees's Accuracy is: \", x*100)\n",
    "\n",
    "print(classification_report(Ytest,predicted_values))"
   ]
  },
  {
   "cell_type": "code",
   "execution_count": 98,
   "id": "2f4e3268",
   "metadata": {},
   "outputs": [],
   "source": [
    "from sklearn.model_selection import cross_val_score\n",
    "from sklearn.model_selection import KFold\n",
    "kf = KFold(shuffle=True, n_splits=5)\n",
    "\n",
    "\n",
    "def cross_val_score_setup(model, features, target):\n",
    "    return cross_val_score(model, features, target, cv=kf, scoring='accuracy')\n",
    "\n"
   ]
  },
  {
   "cell_type": "code",
   "execution_count": 99,
   "id": "fe0a4eb5",
   "metadata": {},
   "outputs": [
    {
     "data": {
      "text/plain": [
       "array([0.89420142, 0.90539166, 0.90844354, 0.90606985, 0.90909091])"
      ]
     },
     "execution_count": 99,
     "metadata": {},
     "output_type": "execute_result"
    }
   ],
   "source": [
    "# Cross validation score (Decision Tree)\n",
    "\n",
    "cross_val_score_setup(DecisionTree, features, target)"
   ]
  },
  {
   "cell_type": "code",
   "execution_count": 100,
   "id": "b63caaef",
   "metadata": {},
   "outputs": [],
   "source": [
    "import pickle\n",
    "# Dump the trained Decision tree classifier with Pickle\n",
    "DT_pkl_filename = '../models/DecisionTree_NPK.pkl'\n",
    "# Open the file to save as pkl file\n",
    "DT_Model_pkl = open(DT_pkl_filename, 'wb')\n",
    "pickle.dump(DecisionTree, DT_Model_pkl)\n",
    "# Close the pickle instances\n",
    "DT_Model_pkl.close()"
   ]
  },
  {
   "cell_type": "markdown",
   "id": "f41c4815",
   "metadata": {},
   "source": [
    "## GNB"
   ]
  },
  {
   "cell_type": "code",
   "execution_count": 101,
   "id": "d5babd3d",
   "metadata": {},
   "outputs": [
    {
     "name": "stdout",
     "output_type": "stream",
     "text": [
      "Naive Bayes's Accuracy is:  0.9521871820956256\n",
      "              precision    recall  f1-score   support\n",
      "\n",
      "       apple       0.41      1.00      0.58        19\n",
      "      banana       1.00      1.00      1.00        22\n",
      "   blackgram       0.56      0.64      0.60        22\n",
      "    chickpea       1.00      1.00      1.00        23\n",
      "     coconut       0.61      0.82      0.70        17\n",
      "      coffee       0.89      1.00      0.94        17\n",
      "      cotton       0.65      1.00      0.79        22\n",
      "      grapes       0.99      0.93      0.96       375\n",
      "       jowar       1.00      0.99      1.00       365\n",
      "        jute       0.58      0.79      0.67        14\n",
      " kidneybeans       0.56      1.00      0.72        19\n",
      "      lentil       0.33      0.39      0.36        23\n",
      "       maize       1.00      0.93      0.97       378\n",
      "       mango       0.86      0.63      0.73        19\n",
      "   mothbeans       0.91      0.71      0.80        14\n",
      "    mungbean       0.75      0.82      0.78        22\n",
      "   muskmelon       0.47      0.50      0.48        16\n",
      "     oilcrop       1.00      1.00      1.00       389\n",
      "      orange       1.00      1.00      1.00        18\n",
      "      papaya       0.95      1.00      0.98        20\n",
      "  pigeonpeas       0.60      0.32      0.42        28\n",
      " pomegranate       0.94      0.88      0.91        17\n",
      "      pulses       1.00      1.00      1.00       354\n",
      "        rice       0.87      0.68      0.76        19\n",
      "   sugercane       1.00      1.00      1.00       362\n",
      "  watermelon       0.36      0.31      0.33        13\n",
      "       wheat       1.00      1.00      1.00       342\n",
      "\n",
      "    accuracy                           0.95      2949\n",
      "   macro avg       0.79      0.83      0.80      2949\n",
      "weighted avg       0.96      0.95      0.95      2949\n",
      "\n"
     ]
    }
   ],
   "source": [
    "from sklearn.naive_bayes import GaussianNB\n",
    "\n",
    "NaiveBayes = GaussianNB()\n",
    "\n",
    "NaiveBayes.fit(Xtrain,Ytrain)\n",
    "\n",
    "predicted_values = NaiveBayes.predict(Xtest)\n",
    "x = metrics.accuracy_score(Ytest, predicted_values)\n",
    "acc.append(x)\n",
    "model.append('Naive Bayes')\n",
    "print(\"Naive Bayes's Accuracy is: \", x)\n",
    "\n",
    "print(classification_report(Ytest,predicted_values))"
   ]
  },
  {
   "cell_type": "code",
   "execution_count": 102,
   "id": "0cd68f23",
   "metadata": {},
   "outputs": [
    {
     "data": {
      "text/plain": [
       "array([0.95659546, 0.95829095, 0.96337742, 0.95930824, 0.96166893])"
      ]
     },
     "execution_count": 102,
     "metadata": {},
     "output_type": "execute_result"
    }
   ],
   "source": [
    "# Cross validation score (NaiveBayes)\n",
    "cross_val_score_setup(NaiveBayes,features,target)\n"
   ]
  },
  {
   "cell_type": "code",
   "execution_count": 103,
   "id": "4e75d6c0",
   "metadata": {},
   "outputs": [],
   "source": [
    "import pickle\n",
    "# Dump the trained Naive Bayes classifier with Pickle\n",
    "NB_pkl_filename = '../models/NBClassifier__NPK.pkl'\n",
    "# Open the file to save as pkl file\n",
    "NB_Model_pkl = open(NB_pkl_filename, 'wb')\n",
    "pickle.dump(NaiveBayes, NB_Model_pkl)\n",
    "# Close the pickle instances\n",
    "NB_Model_pkl.close()"
   ]
  },
  {
   "cell_type": "markdown",
   "id": "6bd7b1a3",
   "metadata": {},
   "source": [
    "## SVM"
   ]
  },
  {
   "cell_type": "code",
   "execution_count": 104,
   "id": "52f46afb",
   "metadata": {},
   "outputs": [
    {
     "name": "stdout",
     "output_type": "stream",
     "text": [
      "Accuracy: 0.946422516107155\n",
      "              precision    recall  f1-score   support\n",
      "\n",
      "       apple       0.41      1.00      0.58        19\n",
      "      banana       1.00      1.00      1.00        22\n",
      "   blackgram       0.56      0.64      0.60        22\n",
      "    chickpea       1.00      1.00      1.00        23\n",
      "     coconut       0.61      0.82      0.70        17\n",
      "      coffee       0.89      1.00      0.94        17\n",
      "      cotton       0.65      1.00      0.79        22\n",
      "      grapes       0.99      0.93      0.96       375\n",
      "       jowar       1.00      0.99      1.00       365\n",
      "        jute       0.58      0.79      0.67        14\n",
      " kidneybeans       0.56      1.00      0.72        19\n",
      "      lentil       0.33      0.39      0.36        23\n",
      "       maize       1.00      0.93      0.97       378\n",
      "       mango       0.86      0.63      0.73        19\n",
      "   mothbeans       0.91      0.71      0.80        14\n",
      "    mungbean       0.75      0.82      0.78        22\n",
      "   muskmelon       0.47      0.50      0.48        16\n",
      "     oilcrop       1.00      1.00      1.00       389\n",
      "      orange       1.00      1.00      1.00        18\n",
      "      papaya       0.95      1.00      0.98        20\n",
      "  pigeonpeas       0.60      0.32      0.42        28\n",
      " pomegranate       0.94      0.88      0.91        17\n",
      "      pulses       1.00      1.00      1.00       354\n",
      "        rice       0.87      0.68      0.76        19\n",
      "   sugercane       1.00      1.00      1.00       362\n",
      "  watermelon       0.36      0.31      0.33        13\n",
      "       wheat       1.00      1.00      1.00       342\n",
      "\n",
      "    accuracy                           0.95      2949\n",
      "   macro avg       0.79      0.83      0.80      2949\n",
      "weighted avg       0.96      0.95      0.95      2949\n",
      "\n"
     ]
    }
   ],
   "source": [
    "\n",
    "from sklearn import svm\n",
    "\n",
    "#Create a svm Classifier\n",
    "svm_clf = svm.SVC(kernel='linear') # Linear Kernel\n",
    "\n",
    "#Train the model using the training sets\n",
    "svm_clf.fit(Xtrain, Ytrain)\n",
    "\n",
    "#Predict the response for test dataset\n",
    "Ypred = svm_clf.predict(Xtest)\n",
    "\n",
    "accuracy = metrics.accuracy_score(Ytest, Ypred)\n",
    "\n",
    "acc.append(accuracy)\n",
    "model.append('SVM')\n",
    "\n",
    "print(\"Accuracy:\" ,accuracy)\n",
    "print(classification_report(Ytest,predicted_values))\n"
   ]
  },
  {
   "cell_type": "code",
   "execution_count": 105,
   "id": "62b0676d",
   "metadata": {},
   "outputs": [
    {
     "data": {
      "text/plain": [
       "array([0.95523906, 0.95489997, 0.94811801, 0.95116989, 0.94877883])"
      ]
     },
     "execution_count": 105,
     "metadata": {},
     "output_type": "execute_result"
    }
   ],
   "source": [
    "# Cross validation score (SVM)\n",
    "cross_val_score_setup(svm_clf,features,target)\n"
   ]
  },
  {
   "cell_type": "code",
   "execution_count": 106,
   "id": "06ff2b5c",
   "metadata": {},
   "outputs": [],
   "source": [
    "import pickle\n",
    "# Dump the trained SVM classifier with Pickle\n",
    "SVM_pkl_filename = '../models/SVM__NPK.pkl'\n",
    "# Open the file to save as pkl file\n",
    "SVM_Model_pkl = open(SVM_pkl_filename, 'wb')\n",
    "pickle.dump(svm_clf, SVM_Model_pkl)\n",
    "# Close the pickle instances\n",
    "SVM_Model_pkl.close()"
   ]
  },
  {
   "cell_type": "markdown",
   "id": "ec92e233",
   "metadata": {},
   "source": [
    "## LG"
   ]
  },
  {
   "cell_type": "code",
   "execution_count": 107,
   "id": "982301d2",
   "metadata": {},
   "outputs": [
    {
     "name": "stdout",
     "output_type": "stream",
     "text": [
      "Logistic Regression's Accuracy is:  89.7931502204137\n",
      "              precision    recall  f1-score   support\n",
      "\n",
      "       apple       0.34      0.53      0.42        19\n",
      "      banana       0.47      0.73      0.57        22\n",
      "   blackgram       0.32      0.55      0.41        22\n",
      "    chickpea       0.41      0.61      0.49        23\n",
      "     coconut       0.00      0.00      0.00        17\n",
      "      coffee       0.82      0.82      0.82        17\n",
      "      cotton       0.79      0.86      0.83        22\n",
      "      grapes       0.98      0.93      0.95       375\n",
      "       jowar       0.86      1.00      0.92       365\n",
      "        jute       0.00      0.00      0.00        14\n",
      " kidneybeans       0.00      0.00      0.00        19\n",
      "      lentil       0.00      0.00      0.00        23\n",
      "       maize       0.92      0.93      0.93       378\n",
      "       mango       0.33      0.32      0.32        19\n",
      "   mothbeans       0.26      0.43      0.32        14\n",
      "    mungbean       0.00      0.00      0.00        22\n",
      "   muskmelon       0.67      0.38      0.48        16\n",
      "     oilcrop       0.97      1.00      0.99       389\n",
      "      orange       1.00      0.06      0.11        18\n",
      "      papaya       1.00      0.30      0.46        20\n",
      "  pigeonpeas       0.31      0.64      0.42        28\n",
      " pomegranate       0.60      0.18      0.27        17\n",
      "      pulses       0.97      1.00      0.99       354\n",
      "        rice       0.00      0.00      0.00        19\n",
      "   sugercane       1.00      1.00      1.00       362\n",
      "  watermelon       0.40      0.31      0.35        13\n",
      "       wheat       0.99      1.00      1.00       342\n",
      "\n",
      "    accuracy                           0.90      2949\n",
      "   macro avg       0.53      0.50      0.48      2949\n",
      "weighted avg       0.88      0.90      0.88      2949\n",
      "\n"
     ]
    }
   ],
   "source": [
    "from sklearn.linear_model import LogisticRegression\n",
    "\n",
    "LogReg = LogisticRegression(random_state=2)\n",
    "\n",
    "LogReg.fit(Xtrain,Ytrain)\n",
    "\n",
    "predicted_values = LogReg.predict(Xtest)\n",
    "\n",
    "x = metrics.accuracy_score(Ytest, predicted_values)\n",
    "acc.append(x)\n",
    "model.append('Logistic Regression')\n",
    "print(\"Logistic Regression's Accuracy is: \", x * 100)\n",
    "\n",
    "print(classification_report(Ytest,predicted_values))"
   ]
  },
  {
   "cell_type": "code",
   "execution_count": 108,
   "id": "6efac1a8",
   "metadata": {},
   "outputs": [
    {
     "data": {
      "text/plain": [
       "array([0.88877586, 0.89725331, 0.89962699, 0.89318413, 0.88704206])"
      ]
     },
     "execution_count": 108,
     "metadata": {},
     "output_type": "execute_result"
    }
   ],
   "source": [
    "# Cross validation score (Logistic Regression)\n",
    "cross_val_score_setup(LogReg,features,target)\n"
   ]
  },
  {
   "cell_type": "code",
   "execution_count": 109,
   "id": "3c6ff240",
   "metadata": {},
   "outputs": [],
   "source": [
    "import pickle\n",
    "# Dump the trained Random Forest classifier with Pickle\n",
    "LR_pkl_filename = '../models/LogisticRegression__NPK.pkl'\n",
    "# Open the file to save as pkl file\n",
    "LR_Model_pkl = open(LR_pkl_filename, 'wb')\n",
    "pickle.dump(LogReg, LR_Model_pkl)\n",
    "# Close the pickle instances\n",
    "LR_Model_pkl.close()"
   ]
  },
  {
   "cell_type": "markdown",
   "id": "9be924c8",
   "metadata": {},
   "source": [
    "## RF"
   ]
  },
  {
   "cell_type": "code",
   "execution_count": 110,
   "id": "fac53915",
   "metadata": {},
   "outputs": [
    {
     "name": "stdout",
     "output_type": "stream",
     "text": [
      "RF's Accuracy is:  96.40556120718887\n",
      "              precision    recall  f1-score   support\n",
      "\n",
      "       apple       0.52      0.79      0.62        19\n",
      "      banana       1.00      1.00      1.00        22\n",
      "   blackgram       0.71      0.68      0.70        22\n",
      "    chickpea       1.00      1.00      1.00        23\n",
      "     coconut       0.61      0.65      0.63        17\n",
      "      coffee       1.00      1.00      1.00        17\n",
      "      cotton       1.00      0.95      0.98        22\n",
      "      grapes       0.99      0.96      0.98       375\n",
      "       jowar       1.00      1.00      1.00       365\n",
      "        jute       0.50      0.57      0.53        14\n",
      " kidneybeans       0.63      0.89      0.74        19\n",
      "      lentil       0.42      0.57      0.48        23\n",
      "       maize       1.00      1.00      1.00       378\n",
      "       mango       0.79      0.58      0.67        19\n",
      "   mothbeans       1.00      0.71      0.83        14\n",
      "    mungbean       0.85      0.77      0.81        22\n",
      "   muskmelon       0.61      0.69      0.65        16\n",
      "     oilcrop       1.00      1.00      1.00       389\n",
      "      orange       1.00      1.00      1.00        18\n",
      "      papaya       0.87      1.00      0.93        20\n",
      "  pigeonpeas       0.53      0.36      0.43        28\n",
      " pomegranate       0.81      1.00      0.89        17\n",
      "      pulses       1.00      1.00      1.00       354\n",
      "        rice       0.73      0.58      0.65        19\n",
      "   sugercane       1.00      1.00      1.00       362\n",
      "  watermelon       0.55      0.46      0.50        13\n",
      "       wheat       1.00      1.00      1.00       342\n",
      "\n",
      "    accuracy                           0.96      2949\n",
      "   macro avg       0.82      0.82      0.82      2949\n",
      "weighted avg       0.97      0.96      0.96      2949\n",
      "\n"
     ]
    }
   ],
   "source": [
    "from sklearn.ensemble import RandomForestClassifier\n",
    "\n",
    "RF = RandomForestClassifier(n_estimators=20, random_state=0)\n",
    "RF.fit(Xtrain,Ytrain)\n",
    "\n",
    "predicted_values = RF.predict(Xtest)\n",
    "\n",
    "x = metrics.accuracy_score(Ytest, predicted_values)\n",
    "acc.append(x)\n",
    "model.append('RF')\n",
    "print(\"RF's Accuracy is: \", x * 100)\n",
    "\n",
    "print(classification_report(Ytest,predicted_values))"
   ]
  },
  {
   "cell_type": "code",
   "execution_count": 111,
   "id": "29fbbe1a",
   "metadata": {},
   "outputs": [
    {
     "data": {
      "text/plain": [
       "array([0.96371651, 0.965412  , 0.96710749, 0.96134283, 0.96777476])"
      ]
     },
     "execution_count": 111,
     "metadata": {},
     "output_type": "execute_result"
    }
   ],
   "source": [
    "# Cross validation score (Random Forest)\n",
    "cross_val_score_setup(RF,features,target)\n"
   ]
  },
  {
   "cell_type": "code",
   "execution_count": 112,
   "id": "87864c09",
   "metadata": {},
   "outputs": [],
   "source": [
    "import pickle\n",
    "# Dump the trained Random Forest classifier with Pickle\n",
    "RF_pkl_filename = '../models/RandomForest_NPK.pkl'\n",
    "# Open the file to save as pkl file\n",
    "RF_Model_pkl = open(RF_pkl_filename, 'wb')\n",
    "pickle.dump(RF, RF_Model_pkl)\n",
    "# Close the pickle instances\n",
    "RF_Model_pkl.close()"
   ]
  },
  {
   "cell_type": "markdown",
   "id": "7382380d",
   "metadata": {},
   "source": [
    "## Accuracy Comparison"
   ]
  },
  {
   "cell_type": "code",
   "execution_count": 113,
   "id": "15f3d75a",
   "metadata": {},
   "outputs": [
    {
     "data": {
      "text/plain": [
       "<AxesSubplot:title={'center':'Accuracy Comparison'}, xlabel='Accuracy', ylabel='Algorithm'>"
      ]
     },
     "execution_count": 113,
     "metadata": {},
     "output_type": "execute_result"
    },
    {
     "data": {
      "image/png": "[encoded data removed]",
      "text/plain": [
       "<Figure size 1000x500 with 1 Axes>"
      ]
     },
     "metadata": {
      "needs_background": "light"
     },
     "output_type": "display_data"
    }
   ],
   "source": [
    "plt.figure(figsize=[10,5],dpi = 100)\n",
    "plt.title('Accuracy Comparison')\n",
    "plt.xlabel('Accuracy')\n",
    "plt.ylabel('Algorithm')\n",
    "sns.barplot(x = acc,y = model,palette='dark')"
   ]
  },
  {
   "cell_type": "code",
   "execution_count": 114,
   "id": "729c4f54",
   "metadata": {},
   "outputs": [
    {
     "name": "stdout",
     "output_type": "stream",
     "text": [
      "Decision Tree --> 0.9094608341810784\n",
      "Naive Bayes --> 0.9521871820956256\n",
      "SVM --> 0.946422516107155\n",
      "Logistic Regression --> 0.897931502204137\n",
      "RF --> 0.9640556120718887\n"
     ]
    }
   ],
   "source": [
    "accuracy_models = dict(zip(model, acc))\n",
    "for k, v in accuracy_models.items():\n",
    "    print (k, '-->', v)"
   ]
  },
  {
   "cell_type": "markdown",
   "id": "8c73b974",
   "metadata": {},
   "source": [
    "## Making a prediction with RF"
   ]
  },
  {
   "cell_type": "code",
   "execution_count": 115,
   "id": "fd25d9a8",
   "metadata": {},
   "outputs": [
    {
     "name": "stdout",
     "output_type": "stream",
     "text": [
      "['coffee']\n",
      "['jute']\n",
      "['coffee']\n"
     ]
    }
   ],
   "source": [
    "data = np.array([[104,18, 30,   6.7 ]])\n",
    "prediction = RF.predict(data)\n",
    "print(prediction)\n",
    "\n",
    "##############################\n",
    "data = np.array([[83, 45, 60,  7.0]])\n",
    "prediction = RF.predict(data)\n",
    "print(prediction)\n",
    "\n",
    "############################\n",
    "\n",
    "data = np.array([[82,40 ,30 ,6.7875 ]])\n",
    "prediction = RF.predict(data)\n",
    "print(prediction)"
   ]
  },
  {
   "cell_type": "markdown",
   "id": "f95c6fc8",
   "metadata": {},
   "source": [
    "### Making a prediction with Naive Bayes\n"
   ]
  },
  {
   "cell_type": "code",
   "execution_count": 116,
   "id": "d7f908c1",
   "metadata": {},
   "outputs": [
    {
     "name": "stdout",
     "output_type": "stream",
     "text": [
      "['coffee']\n",
      "['papaya']\n",
      "['coffee']\n"
     ]
    }
   ],
   "source": [
    "data = np.array([[104,18, 30, 6.7]])\n",
    "prediction = NaiveBayes.predict(data)\n",
    "print(prediction)\n",
    "\n",
    "#########################\n",
    "data = np.array([[83, 45, 60, 7.0 ]])\n",
    "prediction = NaiveBayes.predict(data)\n",
    "print(prediction)\n",
    "\n",
    "#####################333\n",
    "data = np.array([[82,40 ,30 ,6.7875 ]])\n",
    "prediction = NaiveBayes.predict(data)\n",
    "print(prediction)"
   ]
  },
  {
   "cell_type": "markdown",
   "id": "9d3d5a8a",
   "metadata": {},
   "source": [
    "### Making a prediction with SVM"
   ]
  },
  {
   "cell_type": "code",
   "execution_count": 117,
   "id": "94e8429b",
   "metadata": {},
   "outputs": [
    {
     "name": "stdout",
     "output_type": "stream",
     "text": [
      "['coffee']\n",
      "['jute']\n",
      "['coffee']\n"
     ]
    }
   ],
   "source": [
    "data = np.array([[104,18, 30, 6.7 ]])\n",
    "prediction = svm_clf.predict(data)\n",
    "print(prediction)\n",
    "\n",
    "#########################\n",
    "data = np.array([[83, 45, 60, 7.0 ]])\n",
    "prediction = svm_clf.predict(data)\n",
    "print(prediction)\n",
    "\n",
    "#####################\n",
    "data = np.array([[82,40 ,30 , 6.7875 ]])\n",
    "prediction = svm_clf.predict(data)\n",
    "print(prediction)"
   ]
  },
  {
   "cell_type": "code",
   "execution_count": null,
   "id": "0f01d8c2",
   "metadata": {},
   "outputs": [],
   "source": []
  }
 ],
 "metadata": {
  "kernelspec": {
   "display_name": "Python 3 (ipykernel)",
   "language": "python",
   "name": "python3"
  },
  "language_info": {
   "codemirror_mode": {
    "name": "ipython",
    "version": 3
   },
   "file_extension": ".py",
   "mimetype": "text/x-python",
   "name": "python",
   "nbconvert_exporter": "python",
   "pygments_lexer": "ipython3",
   "version": "3.9.7"
  }
 },
 "nbformat": 4,
 "nbformat_minor": 5
}
