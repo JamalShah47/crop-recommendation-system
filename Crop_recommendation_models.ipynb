{
 "cells": [
  {
   "cell_type": "code",
   "execution_count": 140,
   "metadata": {},
   "outputs": [],
   "source": [
    "# Importing libraries\n",
    "\n",
    "from __future__ import print_function\n",
    "import pandas as pd\n",
    "import numpy as np\n",
    "import matplotlib.pyplot as plt\n",
    "import seaborn as sns\n",
    "from sklearn.metrics import classification_report\n",
    "from sklearn import metrics\n",
    "from sklearn import tree\n",
    "import warnings\n",
    "warnings.filterwarnings('ignore')"
   ]
  },
  {
   "cell_type": "code",
   "execution_count": 141,
   "metadata": {},
   "outputs": [],
   "source": [
    "df = pd.read_csv('../Data-processed/final_data.csv')"
   ]
  },
  {
   "cell_type": "code",
   "execution_count": 142,
   "metadata": {},
   "outputs": [
    {
     "data": {
      "text/html": [
       "<div>\n",
       "<style scoped>\n",
       "    .dataframe tbody tr th:only-of-type {\n",
       "        vertical-align: middle;\n",
       "    }\n",
       "\n",
       "    .dataframe tbody tr th {\n",
       "        vertical-align: top;\n",
       "    }\n",
       "\n",
       "    .dataframe thead th {\n",
       "        text-align: right;\n",
       "    }\n",
       "</style>\n",
       "<table border=\"1\" class=\"dataframe\">\n",
       "  <thead>\n",
       "    <tr style=\"text-align: right;\">\n",
       "      <th></th>\n",
       "      <th>N</th>\n",
       "      <th>P</th>\n",
       "      <th>K</th>\n",
       "      <th>pH</th>\n",
       "      <th>temperature</th>\n",
       "      <th>rainfall</th>\n",
       "      <th>crop</th>\n",
       "    </tr>\n",
       "  </thead>\n",
       "  <tbody>\n",
       "    <tr>\n",
       "      <th>0</th>\n",
       "      <td>66.0</td>\n",
       "      <td>46.0</td>\n",
       "      <td>42.0</td>\n",
       "      <td>6.502985</td>\n",
       "      <td>20.879744</td>\n",
       "      <td>202.935536</td>\n",
       "      <td>rice</td>\n",
       "    </tr>\n",
       "    <tr>\n",
       "      <th>1</th>\n",
       "      <td>89.0</td>\n",
       "      <td>60.0</td>\n",
       "      <td>45.0</td>\n",
       "      <td>7.038096</td>\n",
       "      <td>21.770462</td>\n",
       "      <td>226.655537</td>\n",
       "      <td>rice</td>\n",
       "    </tr>\n",
       "    <tr>\n",
       "      <th>2</th>\n",
       "      <td>87.0</td>\n",
       "      <td>44.0</td>\n",
       "      <td>44.0</td>\n",
       "      <td>7.840207</td>\n",
       "      <td>23.004459</td>\n",
       "      <td>263.964248</td>\n",
       "      <td>rice</td>\n",
       "    </tr>\n",
       "    <tr>\n",
       "      <th>3</th>\n",
       "      <td>63.0</td>\n",
       "      <td>38.0</td>\n",
       "      <td>38.0</td>\n",
       "      <td>6.980401</td>\n",
       "      <td>26.491096</td>\n",
       "      <td>242.864034</td>\n",
       "      <td>rice</td>\n",
       "    </tr>\n",
       "    <tr>\n",
       "      <th>4</th>\n",
       "      <td>78.0</td>\n",
       "      <td>48.0</td>\n",
       "      <td>35.0</td>\n",
       "      <td>7.628473</td>\n",
       "      <td>20.130175</td>\n",
       "      <td>262.717340</td>\n",
       "      <td>rice</td>\n",
       "    </tr>\n",
       "  </tbody>\n",
       "</table>\n",
       "</div>"
      ],
      "text/plain": [
       "      N     P     K        pH  temperature    rainfall  crop\n",
       "0  66.0  46.0  42.0  6.502985    20.879744  202.935536  rice\n",
       "1  89.0  60.0  45.0  7.038096    21.770462  226.655537  rice\n",
       "2  87.0  44.0  44.0  7.840207    23.004459  263.964248  rice\n",
       "3  63.0  38.0  38.0  6.980401    26.491096  242.864034  rice\n",
       "4  78.0  48.0  35.0  7.628473    20.130175  262.717340  rice"
      ]
     },
     "execution_count": 142,
     "metadata": {},
     "output_type": "execute_result"
    }
   ],
   "source": [
    "df.head()"
   ]
  },
  {
   "cell_type": "code",
   "execution_count": 143,
   "metadata": {},
   "outputs": [
    {
     "data": {
      "text/html": [
       "<div>\n",
       "<style scoped>\n",
       "    .dataframe tbody tr th:only-of-type {\n",
       "        vertical-align: middle;\n",
       "    }\n",
       "\n",
       "    .dataframe tbody tr th {\n",
       "        vertical-align: top;\n",
       "    }\n",
       "\n",
       "    .dataframe thead th {\n",
       "        text-align: right;\n",
       "    }\n",
       "</style>\n",
       "<table border=\"1\" class=\"dataframe\">\n",
       "  <thead>\n",
       "    <tr style=\"text-align: right;\">\n",
       "      <th></th>\n",
       "      <th>N</th>\n",
       "      <th>P</th>\n",
       "      <th>K</th>\n",
       "      <th>pH</th>\n",
       "      <th>temperature</th>\n",
       "      <th>rainfall</th>\n",
       "      <th>crop</th>\n",
       "    </tr>\n",
       "  </thead>\n",
       "  <tbody>\n",
       "    <tr>\n",
       "      <th>14739</th>\n",
       "      <td>191.0</td>\n",
       "      <td>91.225</td>\n",
       "      <td>235.000</td>\n",
       "      <td>7.0</td>\n",
       "      <td>22.500</td>\n",
       "      <td>80.0</td>\n",
       "      <td>maize</td>\n",
       "    </tr>\n",
       "    <tr>\n",
       "      <th>14740</th>\n",
       "      <td>95.0</td>\n",
       "      <td>53.550</td>\n",
       "      <td>207.500</td>\n",
       "      <td>6.5</td>\n",
       "      <td>31.500</td>\n",
       "      <td>20.0</td>\n",
       "      <td>oilcrop</td>\n",
       "    </tr>\n",
       "    <tr>\n",
       "      <th>14741</th>\n",
       "      <td>80.0</td>\n",
       "      <td>40.000</td>\n",
       "      <td>39.000</td>\n",
       "      <td>7.0</td>\n",
       "      <td>27.875</td>\n",
       "      <td>40.0</td>\n",
       "      <td>jowar</td>\n",
       "    </tr>\n",
       "    <tr>\n",
       "      <th>14742</th>\n",
       "      <td>191.0</td>\n",
       "      <td>89.000</td>\n",
       "      <td>229.125</td>\n",
       "      <td>7.0</td>\n",
       "      <td>22.500</td>\n",
       "      <td>80.0</td>\n",
       "      <td>maize</td>\n",
       "    </tr>\n",
       "    <tr>\n",
       "      <th>14743</th>\n",
       "      <td>80.0</td>\n",
       "      <td>41.000</td>\n",
       "      <td>40.000</td>\n",
       "      <td>7.0</td>\n",
       "      <td>29.125</td>\n",
       "      <td>41.0</td>\n",
       "      <td>jowar</td>\n",
       "    </tr>\n",
       "  </tbody>\n",
       "</table>\n",
       "</div>"
      ],
      "text/plain": [
       "           N       P        K   pH  temperature  rainfall     crop\n",
       "14739  191.0  91.225  235.000  7.0       22.500      80.0    maize\n",
       "14740   95.0  53.550  207.500  6.5       31.500      20.0  oilcrop\n",
       "14741   80.0  40.000   39.000  7.0       27.875      40.0    jowar\n",
       "14742  191.0  89.000  229.125  7.0       22.500      80.0    maize\n",
       "14743   80.0  41.000   40.000  7.0       29.125      41.0    jowar"
      ]
     },
     "execution_count": 143,
     "metadata": {},
     "output_type": "execute_result"
    }
   ],
   "source": [
    "df.tail()\n"
   ]
  },
  {
   "cell_type": "code",
   "execution_count": 144,
   "metadata": {},
   "outputs": [
    {
     "name": "stdout",
     "output_type": "stream",
     "text": [
      "size: 103208\n",
      "shape: (14744, 7)\n",
      "columns: Index(['N', 'P', 'K', 'pH', 'temperature', 'rainfall', 'crop'], dtype='object')\n"
     ]
    }
   ],
   "source": [
    "print('size:', df.size)\n",
    "print('shape:', df.shape)\n",
    "print('columns:', df.columns)"
   ]
  },
  {
   "cell_type": "code",
   "execution_count": 145,
   "metadata": {},
   "outputs": [
    {
     "data": {
      "text/plain": [
       "array(['rice', 'maize', 'chickpea', 'kidneybeans', 'pigeonpeas',\n",
       "       'mothbeans', 'mungbean', 'blackgram', 'lentil', 'pomegranate',\n",
       "       'banana', 'mango', 'grapes', 'watermelon', 'muskmelon', 'apple',\n",
       "       'orange', 'papaya', 'coconut', 'cotton', 'jute', 'coffee', 'jowar',\n",
       "       'pulses', 'oilcrop', 'wheat', 'sugercane'], dtype=object)"
      ]
     },
     "execution_count": 145,
     "metadata": {},
     "output_type": "execute_result"
    }
   ],
   "source": [
    "df['crop'].unique()"
   ]
  },
  {
   "cell_type": "code",
   "execution_count": 146,
   "metadata": {},
   "outputs": [
    {
     "data": {
      "text/plain": [
       "N              float64\n",
       "P              float64\n",
       "K              float64\n",
       "pH             float64\n",
       "temperature    float64\n",
       "rainfall       float64\n",
       "crop            object\n",
       "dtype: object"
      ]
     },
     "execution_count": 146,
     "metadata": {},
     "output_type": "execute_result"
    }
   ],
   "source": [
    "df.dtypes"
   ]
  },
  {
   "cell_type": "code",
   "execution_count": 147,
   "metadata": {},
   "outputs": [
    {
     "data": {
      "text/plain": [
       "grapes         1892\n",
       "maize          1892\n",
       "sugercane      1792\n",
       "wheat          1792\n",
       "oilcrop        1792\n",
       "pulses         1792\n",
       "jowar          1792\n",
       "apple           100\n",
       "coffee          100\n",
       "jute            100\n",
       "cotton          100\n",
       "coconut         100\n",
       "papaya          100\n",
       "orange          100\n",
       "rice            100\n",
       "muskmelon       100\n",
       "mango           100\n",
       "banana          100\n",
       "pomegranate     100\n",
       "lentil          100\n",
       "blackgram       100\n",
       "mungbean        100\n",
       "mothbeans       100\n",
       "pigeonpeas      100\n",
       "kidneybeans     100\n",
       "chickpea        100\n",
       "watermelon      100\n",
       "Name: crop, dtype: int64"
      ]
     },
     "execution_count": 147,
     "metadata": {},
     "output_type": "execute_result"
    }
   ],
   "source": [
    "df['crop'].value_counts()"
   ]
  },
  {
   "cell_type": "code",
   "execution_count": 148,
   "metadata": {},
   "outputs": [
    {
     "data": {
      "text/plain": [
       "<AxesSubplot:>"
      ]
     },
     "execution_count": 148,
     "metadata": {},
     "output_type": "execute_result"
    },
    {
     "data": {
      "image/png": "[encoded data removed]",
      "text/plain": [
       "<Figure size 432x288 with 2 Axes>"
      ]
     },
     "metadata": {
      "needs_background": "light"
     },
     "output_type": "display_data"
    }
   ],
   "source": [
    "sns.heatmap(df.corr(),annot=True)"
   ]
  },
  {
   "cell_type": "markdown",
   "metadata": {},
   "source": [
    "### Seperating features and target label"
   ]
  },
  {
   "cell_type": "code",
   "execution_count": 149,
   "metadata": {},
   "outputs": [],
   "source": [
    "features = df[['N', 'P','K','temperature',  'pH', 'rainfall']]\n",
    "target = df['crop']\n"
   ]
  },
  {
   "cell_type": "code",
   "execution_count": 150,
   "metadata": {},
   "outputs": [],
   "source": [
    "# Initialzing empty lists to append all model's name and corresponding name\n",
    "acc = []\n",
    "model = []"
   ]
  },
  {
   "cell_type": "code",
   "execution_count": 151,
   "metadata": {},
   "outputs": [],
   "source": [
    "# Splitting into train and test data\n",
    "\n",
    "from sklearn.model_selection import train_test_split\n",
    "Xtrain, Xtest, Ytrain, Ytest = train_test_split(features, target, train_size=0.80, test_size = 0.2,random_state =101)"
   ]
  },
  {
   "cell_type": "markdown",
   "metadata": {},
   "source": [
    "# Decision Tree"
   ]
  },
  {
   "cell_type": "code",
   "execution_count": 152,
   "metadata": {},
   "outputs": [
    {
     "name": "stdout",
     "output_type": "stream",
     "text": [
      "DecisionTrees's Accuracy is:  90.03051881993896\n",
      "              precision    recall  f1-score   support\n",
      "\n",
      "       apple       0.28      1.00      0.43        19\n",
      "      banana       0.00      0.00      0.00        22\n",
      "   blackgram       0.00      0.00      0.00        22\n",
      "    chickpea       0.00      0.00      0.00        23\n",
      "     coconut       0.00      0.00      0.00        17\n",
      "      coffee       0.00      0.00      0.00        17\n",
      "      cotton       0.37      1.00      0.54        22\n",
      "      grapes       1.00      0.93      0.96       375\n",
      "       jowar       1.00      1.00      1.00       365\n",
      "        jute       0.14      1.00      0.25        14\n",
      " kidneybeans       0.00      0.00      0.00        19\n",
      "      lentil       0.77      0.87      0.82        23\n",
      "       maize       1.00      0.93      0.97       378\n",
      "       mango       0.00      0.00      0.00        19\n",
      "   mothbeans       0.00      0.00      0.00        14\n",
      "    mungbean       0.62      0.82      0.71        22\n",
      "   muskmelon       1.00      1.00      1.00        16\n",
      "     oilcrop       1.00      1.00      1.00       389\n",
      "      orange       0.15      1.00      0.25        18\n",
      "      papaya       1.00      0.10      0.18        20\n",
      "  pigeonpeas       0.00      0.00      0.00        28\n",
      " pomegranate       0.00      0.00      0.00        17\n",
      "      pulses       1.00      1.00      1.00       354\n",
      "        rice       0.00      0.00      0.00        19\n",
      "   sugercane       1.00      1.00      1.00       362\n",
      "  watermelon       1.00      1.00      1.00        13\n",
      "       wheat       1.00      1.00      1.00       342\n",
      "\n",
      "    accuracy                           0.90      2949\n",
      "   macro avg       0.46      0.54      0.45      2949\n",
      "weighted avg       0.90      0.90      0.89      2949\n",
      "\n"
     ]
    }
   ],
   "source": [
    "from sklearn.tree import DecisionTreeClassifier\n",
    "\n",
    "DecisionTree = DecisionTreeClassifier(criterion=\"entropy\",random_state=2,max_depth=5)\n",
    "\n",
    "DecisionTree.fit(Xtrain,Ytrain)\n",
    "\n",
    "predicted_values = DecisionTree.predict(Xtest)\n",
    "x = metrics.accuracy_score(Ytest, predicted_values)\n",
    "acc.append(x)\n",
    "model.append('Decision Tree')\n",
    "print(\"DecisionTrees's Accuracy is: \", x*100)\n",
    "\n",
    "print(classification_report(Ytest,predicted_values))"
   ]
  },
  {
   "cell_type": "code",
   "execution_count": 153,
   "metadata": {},
   "outputs": [],
   "source": [
    "from sklearn.model_selection import cross_val_score\n",
    "from sklearn.model_selection import KFold\n",
    "kf = KFold(shuffle=True, n_splits=5)\n",
    "\n",
    "\n",
    "def cross_val_score_setup(model, features, target):\n",
    "    return cross_val_score(model, features, target, cv=kf, scoring='accuracy')\n",
    "\n"
   ]
  },
  {
   "cell_type": "code",
   "execution_count": 154,
   "metadata": {},
   "outputs": [
    {
     "data": {
      "text/plain": [
       "array([0.89013225, 0.89284503, 0.90776534, 0.90200068, 0.9009498 ])"
      ]
     },
     "execution_count": 154,
     "metadata": {},
     "output_type": "execute_result"
    }
   ],
   "source": [
    "# Cross validation score (Decision Tree)\n",
    "\n",
    "cross_val_score_setup(DecisionTree, features, target)"
   ]
  },
  {
   "cell_type": "markdown",
   "metadata": {},
   "source": [
    "### Saving trained Decision Tree model"
   ]
  },
  {
   "cell_type": "code",
   "execution_count": 155,
   "metadata": {},
   "outputs": [],
   "source": [
    "import pickle\n",
    "# Dump the trained Decision tree classifier with Pickle\n",
    "DT_pkl_filename = '../models/DecisionTree.pkl'\n",
    "# Open the file to save as pkl file\n",
    "DT_Model_pkl = open(DT_pkl_filename, 'wb')\n",
    "pickle.dump(DecisionTree, DT_Model_pkl)\n",
    "# Close the pickle instances\n",
    "DT_Model_pkl.close()"
   ]
  },
  {
   "cell_type": "markdown",
   "metadata": {},
   "source": [
    "# Guassian Naive Bayes"
   ]
  },
  {
   "cell_type": "code",
   "execution_count": 156,
   "metadata": {},
   "outputs": [
    {
     "name": "stdout",
     "output_type": "stream",
     "text": [
      "Naive Bayes's Accuracy is:  0.9854187860291624\n",
      "              precision    recall  f1-score   support\n",
      "\n",
      "       apple       0.66      1.00      0.79        19\n",
      "      banana       1.00      1.00      1.00        22\n",
      "   blackgram       0.96      1.00      0.98        22\n",
      "    chickpea       1.00      1.00      1.00        23\n",
      "     coconut       1.00      1.00      1.00        17\n",
      "      coffee       1.00      1.00      1.00        17\n",
      "      cotton       0.54      1.00      0.70        22\n",
      "      grapes       1.00      0.97      0.99       375\n",
      "       jowar       1.00      1.00      1.00       365\n",
      "        jute       0.81      0.93      0.87        14\n",
      " kidneybeans       0.86      0.95      0.90        19\n",
      "      lentil       1.00      0.91      0.95        23\n",
      "       maize       1.00      0.93      0.97       378\n",
      "       mango       1.00      1.00      1.00        19\n",
      "   mothbeans       0.93      0.93      0.93        14\n",
      "    mungbean       0.92      1.00      0.96        22\n",
      "   muskmelon       1.00      1.00      1.00        16\n",
      "     oilcrop       1.00      1.00      1.00       389\n",
      "      orange       1.00      1.00      1.00        18\n",
      "      papaya       1.00      1.00      1.00        20\n",
      "  pigeonpeas       0.90      1.00      0.95        28\n",
      " pomegranate       1.00      1.00      1.00        17\n",
      "      pulses       1.00      1.00      1.00       354\n",
      "        rice       0.94      0.84      0.89        19\n",
      "   sugercane       1.00      1.00      1.00       362\n",
      "  watermelon       1.00      1.00      1.00        13\n",
      "       wheat       1.00      1.00      1.00       342\n",
      "\n",
      "    accuracy                           0.99      2949\n",
      "   macro avg       0.94      0.98      0.96      2949\n",
      "weighted avg       0.99      0.99      0.99      2949\n",
      "\n"
     ]
    }
   ],
   "source": [
    "from sklearn.naive_bayes import GaussianNB\n",
    "\n",
    "NaiveBayes = GaussianNB()\n",
    "\n",
    "NaiveBayes.fit(Xtrain,Ytrain)\n",
    "\n",
    "predicted_values = NaiveBayes.predict(Xtest)\n",
    "x = metrics.accuracy_score(Ytest, predicted_values)\n",
    "acc.append(x)\n",
    "model.append('Naive Bayes')\n",
    "print(\"Naive Bayes's Accuracy is: \", x)\n",
    "\n",
    "print(classification_report(Ytest,predicted_values))"
   ]
  },
  {
   "cell_type": "code",
   "execution_count": 157,
   "metadata": {},
   "outputs": [
    {
     "data": {
      "text/plain": [
       "array([0.99084435, 0.98609698, 0.99016616, 0.98474059, 0.98778833])"
      ]
     },
     "execution_count": 157,
     "metadata": {},
     "output_type": "execute_result"
    }
   ],
   "source": [
    "# Cross validation score (NaiveBayes)\n",
    "cross_val_score_setup(NaiveBayes,features,target)\n"
   ]
  },
  {
   "cell_type": "markdown",
   "metadata": {},
   "source": [
    "### Saving trained Guassian Naive Bayes model"
   ]
  },
  {
   "cell_type": "code",
   "execution_count": 158,
   "metadata": {},
   "outputs": [],
   "source": [
    "import pickle\n",
    "# Dump the trained Naive Bayes classifier with Pickle\n",
    "NB_pkl_filename = '../models/NBClassifier.pkl'\n",
    "# Open the file to save as pkl file\n",
    "NB_Model_pkl = open(NB_pkl_filename, 'wb')\n",
    "pickle.dump(NaiveBayes, NB_Model_pkl)\n",
    "# Close the pickle instances\n",
    "NB_Model_pkl.close()"
   ]
  },
  {
   "cell_type": "markdown",
   "metadata": {},
   "source": [
    "# Support Vector Machine (SVM)"
   ]
  },
  {
   "cell_type": "code",
   "execution_count": 159,
   "metadata": {},
   "outputs": [
    {
     "name": "stdout",
     "output_type": "stream",
     "text": [
      "Accuracy: 0.9908443540183113\n",
      "              precision    recall  f1-score   support\n",
      "\n",
      "       apple       0.66      1.00      0.79        19\n",
      "      banana       1.00      1.00      1.00        22\n",
      "   blackgram       0.96      1.00      0.98        22\n",
      "    chickpea       1.00      1.00      1.00        23\n",
      "     coconut       1.00      1.00      1.00        17\n",
      "      coffee       1.00      1.00      1.00        17\n",
      "      cotton       0.54      1.00      0.70        22\n",
      "      grapes       1.00      0.97      0.99       375\n",
      "       jowar       1.00      1.00      1.00       365\n",
      "        jute       0.81      0.93      0.87        14\n",
      " kidneybeans       0.86      0.95      0.90        19\n",
      "      lentil       1.00      0.91      0.95        23\n",
      "       maize       1.00      0.93      0.97       378\n",
      "       mango       1.00      1.00      1.00        19\n",
      "   mothbeans       0.93      0.93      0.93        14\n",
      "    mungbean       0.92      1.00      0.96        22\n",
      "   muskmelon       1.00      1.00      1.00        16\n",
      "     oilcrop       1.00      1.00      1.00       389\n",
      "      orange       1.00      1.00      1.00        18\n",
      "      papaya       1.00      1.00      1.00        20\n",
      "  pigeonpeas       0.90      1.00      0.95        28\n",
      " pomegranate       1.00      1.00      1.00        17\n",
      "      pulses       1.00      1.00      1.00       354\n",
      "        rice       0.94      0.84      0.89        19\n",
      "   sugercane       1.00      1.00      1.00       362\n",
      "  watermelon       1.00      1.00      1.00        13\n",
      "       wheat       1.00      1.00      1.00       342\n",
      "\n",
      "    accuracy                           0.99      2949\n",
      "   macro avg       0.94      0.98      0.96      2949\n",
      "weighted avg       0.99      0.99      0.99      2949\n",
      "\n"
     ]
    }
   ],
   "source": [
    "\n",
    "from sklearn import svm\n",
    "\n",
    "#Create a svm Classifier\n",
    "svm_clf = svm.SVC(kernel='linear') # Linear Kernel\n",
    "\n",
    "#Train the model using the training sets\n",
    "svm_clf.fit(Xtrain, Ytrain)\n",
    "\n",
    "#Predict the response for test dataset\n",
    "Ypred = svm_clf.predict(Xtest)\n",
    "\n",
    "accuracy = metrics.accuracy_score(Ytest, Ypred)\n",
    "\n",
    "acc.append(accuracy)\n",
    "model.append('SVM')\n",
    "\n",
    "print(\"Accuracy:\" ,accuracy)\n",
    "print(classification_report(Ytest,predicted_values))\n"
   ]
  },
  {
   "cell_type": "code",
   "execution_count": 160,
   "metadata": {},
   "outputs": [
    {
     "data": {
      "text/plain": [
       "array([0.99016616, 0.99016616, 0.98880977, 0.99220075, 0.98609227])"
      ]
     },
     "execution_count": 160,
     "metadata": {},
     "output_type": "execute_result"
    }
   ],
   "source": [
    "# Cross validation score (SVM)\n",
    "cross_val_score_setup(svm_clf,features,target)\n"
   ]
  },
  {
   "cell_type": "code",
   "execution_count": 161,
   "metadata": {},
   "outputs": [],
   "source": [
    "import pickle\n",
    "# Dump the trained SVM classifier with Pickle\n",
    "SVM_pkl_filename = '../models/SVM.pkl'\n",
    "# Open the file to save as pkl file\n",
    "SVM_Model_pkl = open(SVM_pkl_filename, 'wb')\n",
    "pickle.dump(svm_clf, SVM_Model_pkl)\n",
    "# Close the pickle instances\n",
    "SVM_Model_pkl.close()"
   ]
  },
  {
   "cell_type": "markdown",
   "metadata": {},
   "source": [
    "# Logistic Regression"
   ]
  },
  {
   "cell_type": "code",
   "execution_count": 162,
   "metadata": {},
   "outputs": [
    {
     "name": "stdout",
     "output_type": "stream",
     "text": [
      "Logistic Regression's Accuracy is:  97.49067480501866\n",
      "              precision    recall  f1-score   support\n",
      "\n",
      "       apple       0.90      0.95      0.92        19\n",
      "      banana       0.71      0.77      0.74        22\n",
      "   blackgram       0.78      0.82      0.80        22\n",
      "    chickpea       1.00      1.00      1.00        23\n",
      "     coconut       0.94      1.00      0.97        17\n",
      "      coffee       0.89      1.00      0.94        17\n",
      "      cotton       0.88      1.00      0.94        22\n",
      "      grapes       0.99      0.99      0.99       375\n",
      "       jowar       1.00      1.00      1.00       365\n",
      "        jute       0.62      0.71      0.67        14\n",
      " kidneybeans       0.80      0.84      0.82        19\n",
      "      lentil       0.84      0.91      0.87        23\n",
      "       maize       0.99      0.96      0.97       378\n",
      "       mango       1.00      1.00      1.00        19\n",
      "   mothbeans       0.29      0.57      0.38        14\n",
      "    mungbean       0.62      0.23      0.33        22\n",
      "   muskmelon       1.00      1.00      1.00        16\n",
      "     oilcrop       1.00      1.00      1.00       389\n",
      "      orange       1.00      0.94      0.97        18\n",
      "      papaya       0.77      0.85      0.81        20\n",
      "  pigeonpeas       0.96      0.86      0.91        28\n",
      " pomegranate       1.00      0.88      0.94        17\n",
      "      pulses       1.00      1.00      1.00       354\n",
      "        rice       0.83      0.79      0.81        19\n",
      "   sugercane       1.00      1.00      1.00       362\n",
      "  watermelon       1.00      0.92      0.96        13\n",
      "       wheat       1.00      1.00      1.00       342\n",
      "\n",
      "    accuracy                           0.97      2949\n",
      "   macro avg       0.88      0.89      0.88      2949\n",
      "weighted avg       0.98      0.97      0.98      2949\n",
      "\n"
     ]
    }
   ],
   "source": [
    "from sklearn.linear_model import LogisticRegression\n",
    "\n",
    "LogReg = LogisticRegression(random_state=2)\n",
    "\n",
    "LogReg.fit(Xtrain,Ytrain)\n",
    "\n",
    "predicted_values = LogReg.predict(Xtest)\n",
    "\n",
    "x = metrics.accuracy_score(Ytest, predicted_values)\n",
    "acc.append(x)\n",
    "model.append('Logistic Regression')\n",
    "print(\"Logistic Regression's Accuracy is: \", x * 100)\n",
    "\n",
    "print(classification_report(Ytest,predicted_values))"
   ]
  },
  {
   "cell_type": "code",
   "execution_count": 163,
   "metadata": {},
   "outputs": [
    {
     "data": {
      "text/plain": [
       "array([0.97388945, 0.97626314, 0.97558494, 0.97287216, 0.9765943 ])"
      ]
     },
     "execution_count": 163,
     "metadata": {},
     "output_type": "execute_result"
    }
   ],
   "source": [
    "# Cross validation score (Logistic Regression)\n",
    "cross_val_score_setup(LogReg,features,target)\n"
   ]
  },
  {
   "cell_type": "markdown",
   "metadata": {},
   "source": [
    "### Saving trained Logistic Regression model"
   ]
  },
  {
   "cell_type": "code",
   "execution_count": 164,
   "metadata": {},
   "outputs": [],
   "source": [
    "import pickle\n",
    "# Dump the trained Random Forest classifier with Pickle\n",
    "LR_pkl_filename = '../models/LogisticRegression.pkl'\n",
    "# Open the file to save as pkl file\n",
    "LR_Model_pkl = open(LR_pkl_filename, 'wb')\n",
    "pickle.dump(LogReg, LR_Model_pkl)\n",
    "# Close the pickle instances\n",
    "LR_Model_pkl.close()"
   ]
  },
  {
   "cell_type": "markdown",
   "metadata": {},
   "source": [
    "# Random Forest"
   ]
  },
  {
   "cell_type": "code",
   "execution_count": 165,
   "metadata": {},
   "outputs": [
    {
     "name": "stdout",
     "output_type": "stream",
     "text": [
      "RF's Accuracy is:  99.52526280094948\n",
      "              precision    recall  f1-score   support\n",
      "\n",
      "       apple       1.00      1.00      1.00        19\n",
      "      banana       1.00      1.00      1.00        22\n",
      "   blackgram       1.00      1.00      1.00        22\n",
      "    chickpea       1.00      1.00      1.00        23\n",
      "     coconut       1.00      1.00      1.00        17\n",
      "      coffee       1.00      1.00      1.00        17\n",
      "      cotton       0.95      0.95      0.95        22\n",
      "      grapes       1.00      1.00      1.00       375\n",
      "       jowar       1.00      1.00      1.00       365\n",
      "        jute       0.88      1.00      0.93        14\n",
      " kidneybeans       0.90      0.95      0.92        19\n",
      "      lentil       0.88      0.91      0.89        23\n",
      "       maize       1.00      1.00      1.00       378\n",
      "       mango       1.00      1.00      1.00        19\n",
      "   mothbeans       0.92      0.79      0.85        14\n",
      "    mungbean       0.86      0.86      0.86        22\n",
      "   muskmelon       1.00      1.00      1.00        16\n",
      "     oilcrop       1.00      1.00      1.00       389\n",
      "      orange       1.00      1.00      1.00        18\n",
      "      papaya       1.00      0.95      0.97        20\n",
      "  pigeonpeas       0.97      1.00      0.98        28\n",
      " pomegranate       1.00      1.00      1.00        17\n",
      "      pulses       1.00      1.00      1.00       354\n",
      "        rice       1.00      0.89      0.94        19\n",
      "   sugercane       1.00      1.00      1.00       362\n",
      "  watermelon       1.00      1.00      1.00        13\n",
      "       wheat       1.00      1.00      1.00       342\n",
      "\n",
      "    accuracy                           1.00      2949\n",
      "   macro avg       0.98      0.97      0.97      2949\n",
      "weighted avg       1.00      1.00      1.00      2949\n",
      "\n"
     ]
    }
   ],
   "source": [
    "from sklearn.ensemble import RandomForestClassifier\n",
    "\n",
    "RF = RandomForestClassifier(n_estimators=20, random_state=0)\n",
    "RF.fit(Xtrain,Ytrain)\n",
    "\n",
    "predicted_values = RF.predict(Xtest)\n",
    "\n",
    "x = metrics.accuracy_score(Ytest, predicted_values)\n",
    "acc.append(x)\n",
    "model.append('RF')\n",
    "print(\"RF's Accuracy is: \", x * 100)\n",
    "\n",
    "print(classification_report(Ytest,predicted_values))"
   ]
  },
  {
   "cell_type": "code",
   "execution_count": 166,
   "metadata": {},
   "outputs": [
    {
     "data": {
      "text/plain": [
       "array([0.99796541, 0.99525263, 0.99796541, 0.99762631, 0.99626866])"
      ]
     },
     "execution_count": 166,
     "metadata": {},
     "output_type": "execute_result"
    }
   ],
   "source": [
    "# Cross validation score (Random Forest)\n",
    "cross_val_score_setup(RF,features,target)\n"
   ]
  },
  {
   "cell_type": "markdown",
   "metadata": {},
   "source": [
    "### Saving trained Random Forest model"
   ]
  },
  {
   "cell_type": "code",
   "execution_count": 167,
   "metadata": {},
   "outputs": [],
   "source": [
    "import pickle\n",
    "# Dump the trained Random Forest classifier with Pickle\n",
    "RF_pkl_filename = '../models/RandomForest.pkl'\n",
    "# Open the file to save as pkl file\n",
    "RF_Model_pkl = open(RF_pkl_filename, 'wb')\n",
    "pickle.dump(RF, RF_Model_pkl)\n",
    "# Close the pickle instances\n",
    "RF_Model_pkl.close()"
   ]
  },
  {
   "cell_type": "markdown",
   "metadata": {},
   "source": [
    "## Accuracy Comparison"
   ]
  },
  {
   "cell_type": "code",
   "execution_count": 168,
   "metadata": {},
   "outputs": [
    {
     "data": {
      "text/plain": [
       "<AxesSubplot:title={'center':'Accuracy Comparison'}, xlabel='Accuracy', ylabel='Algorithm'>"
      ]
     },
     "execution_count": 168,
     "metadata": {},
     "output_type": "execute_result"
    },
    {
     "data": {
      "image/png": "[encoded data removed]",
      "text/plain": [
       "<Figure size 1000x500 with 1 Axes>"
      ]
     },
     "metadata": {
      "needs_background": "light"
     },
     "output_type": "display_data"
    }
   ],
   "source": [
    "plt.figure(figsize=[10,5],dpi = 100)\n",
    "plt.title('Accuracy Comparison')\n",
    "plt.xlabel('Accuracy')\n",
    "plt.ylabel('Algorithm')\n",
    "sns.barplot(x = acc,y = model,palette='dark')"
   ]
  },
  {
   "cell_type": "code",
   "execution_count": 169,
   "metadata": {},
   "outputs": [
    {
     "name": "stdout",
     "output_type": "stream",
     "text": [
      "Decision Tree --> 0.9003051881993896\n",
      "Naive Bayes --> 0.9854187860291624\n",
      "SVM --> 0.9908443540183113\n",
      "Logistic Regression --> 0.9749067480501865\n",
      "RF --> 0.9952526280094948\n"
     ]
    }
   ],
   "source": [
    "accuracy_models = dict(zip(model, acc))\n",
    "for k, v in accuracy_models.items():\n",
    "    print (k, '-->', v)"
   ]
  },
  {
   "cell_type": "markdown",
   "metadata": {},
   "source": [
    "## Making a prediction with RF"
   ]
  },
  {
   "cell_type": "code",
   "execution_count": 170,
   "metadata": {},
   "outputs": [
    {
     "name": "stdout",
     "output_type": "stream",
     "text": [
      "['coffee']\n",
      "['papaya']\n",
      "['coffee']\n"
     ]
    }
   ],
   "source": [
    "data = np.array([[104,18, 30, 23.603016,  6.7, 140.91]])\n",
    "prediction = RF.predict(data)\n",
    "print(prediction)\n",
    "\n",
    "##############################\n",
    "data = np.array([[83, 45, 60, 28,  7.0, 150.9]])\n",
    "prediction = RF.predict(data)\n",
    "print(prediction)\n",
    "\n",
    "############################\n",
    "\n",
    "data = np.array([[82,40 ,30 ,28.5 ,6.7875,120 ]])\n",
    "prediction = RF.predict(data)\n",
    "print(prediction)"
   ]
  },
  {
   "cell_type": "markdown",
   "metadata": {},
   "source": [
    "### Making a prediction with Naive Bayes"
   ]
  },
  {
   "cell_type": "code",
   "execution_count": 171,
   "metadata": {},
   "outputs": [
    {
     "name": "stdout",
     "output_type": "stream",
     "text": [
      "['coffee']\n",
      "['papaya']\n",
      "['coffee']\n"
     ]
    }
   ],
   "source": [
    "data = np.array([[104,18, 30, 23.603016,  6.7, 140.91]])\n",
    "prediction = NaiveBayes.predict(data)\n",
    "print(prediction)\n",
    "\n",
    "#########################\n",
    "data = np.array([[83, 45, 60, 28,  7.0, 150.9]])\n",
    "prediction = NaiveBayes.predict(data)\n",
    "print(prediction)\n",
    "\n",
    "#####################333\n",
    "data = np.array([[82,40 ,30 ,28.5 ,6.7875,120 ]])\n",
    "prediction = NaiveBayes.predict(data)\n",
    "print(prediction)"
   ]
  },
  {
   "cell_type": "markdown",
   "metadata": {},
   "source": [
    "### Making a prediction with SVM"
   ]
  },
  {
   "cell_type": "code",
   "execution_count": 172,
   "metadata": {},
   "outputs": [
    {
     "name": "stdout",
     "output_type": "stream",
     "text": [
      "['coffee']\n",
      "['jute']\n",
      "['coffee']\n"
     ]
    }
   ],
   "source": [
    "data = np.array([[104,18, 30, 23.603016,  6.7, 140.91]])\n",
    "prediction = svm_clf.predict(data)\n",
    "print(prediction)\n",
    "\n",
    "#########################\n",
    "data = np.array([[83, 45, 60, 28,  7.0, 150.9]])\n",
    "prediction = svm_clf.predict(data)\n",
    "print(prediction)\n",
    "\n",
    "#####################\n",
    "data = np.array([[82,40 ,30 ,28.5 ,6.7875,120 ]])\n",
    "prediction = svm_clf.predict(data)\n",
    "print(prediction)"
   ]
  },
  {
   "cell_type": "code",
   "execution_count": null,
   "metadata": {},
   "outputs": [],
   "source": []
  }
 ],
 "metadata": {
  "kernelspec": {
   "display_name": "Python 3 (ipykernel)",
   "language": "python",
   "name": "python3"
  },
  "language_info": {
   "codemirror_mode": {
    "name": "ipython",
    "version": 3
   },
   "file_extension": ".py",
   "mimetype": "text/x-python",
   "name": "python",
   "nbconvert_exporter": "python",
   "pygments_lexer": "ipython3",
   "version": "3.9.7"
  }
 },
 "nbformat": 4,
 "nbformat_minor": 4
}
